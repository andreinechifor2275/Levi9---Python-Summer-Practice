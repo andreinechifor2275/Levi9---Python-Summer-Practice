{
 "cells": [
  {
   "cell_type": "code",
   "execution_count": null,
   "id": "initial_id",
   "metadata": {
    "collapsed": true,
    "is_executing": true
   },
   "outputs": [],
   "source": [
    "import numpy as np\n",
    "\n",
    "def exercise_1():\n",
    "    \"\"\"\n",
    "    Select all even numbers from the array [1, 2, 3, 4, 5, 6, 7, 8].\n",
    "    Output: [2, 4, 6, 8]\n",
    "    \"\"\"\n",
    "    array = np.array([1, 2, 3, 4, 5, 6, 7, 8])\n",
    "    even_numbers = array[array % 2 == 0]\n",
    "    print(even_numbers) "
   ]
  },
  {
   "cell_type": "code",
   "outputs": [],
   "source": [
    "def exercise_2():\n",
    "    \"\"\"\n",
    "    Compute the mean, sum, and standard deviation of a random array of 100 numbers.\n",
    "    Generate the array using np random module.\n",
    "    \"\"\"\n",
    "    \n",
    "    pass"
   ],
   "metadata": {
    "collapsed": false
   },
   "id": "223ef4906b3d959d"
  },
  {
   "cell_type": "code",
   "outputs": [],
   "source": [
    "def exercise_3():\n",
    "    \"\"\"\n",
    "    Generate an 1D array with 12 elements. Reshape it into a 3x4 2D array.\n",
    "    Example: in - [0 ,1 ,2, 3, 4, 5, 6, 7, 8, 9 , 10 , 11]\n",
    "            out - [[0, 1, 2, 3], [4, 5, 6, 7], [8, 9, 10, 11]]\n",
    "    \"\"\"\n",
    "    pass"
   ],
   "metadata": {
    "collapsed": false
   },
   "id": "e0b3ec5077abf0c5"
  },
  {
   "cell_type": "code",
   "outputs": [],
   "source": [
    "def exercise_4():\n",
    "    \"\"\"\n",
    "    Find the index of the maximum element in a 2D array.\n",
    "    Example: in - [[3, 5, 10], [9, 2, 8]]\n",
    "            out - (0, 2)\n",
    "    \"\"\"\n",
    "    pass"
   ],
   "metadata": {
    "collapsed": false
   },
   "id": "99fd49157e9d01dc"
  },
  {
   "cell_type": "code",
   "outputs": [],
   "source": [
    "def exercise_5():\n",
    "    \"\"\"\n",
    "    Create two 2x2 matrices. Perform the element-wise multiplication and the matrix multiplication (dot product).\n",
    "    Example: in - [[1, 2], [3, 4]]\n",
    "                  [[5, 6], [7, 8]]\n",
    "            out - [[5, 12], [21, 32]]\n",
    "                  [[19, 22], [43, 50]]\n",
    "    \"\"\"\n",
    "    pass"
   ],
   "metadata": {
    "collapsed": false
   },
   "id": "d6e1dc94698fbaa1"
  }
 ],
 "metadata": {
  "kernelspec": {
   "display_name": "Python 3",
   "language": "python",
   "name": "python3"
  },
  "language_info": {
   "codemirror_mode": {
    "name": "ipython",
    "version": 2
   },
   "file_extension": ".py",
   "mimetype": "text/x-python",
   "name": "python",
   "nbconvert_exporter": "python",
   "pygments_lexer": "ipython2",
   "version": "2.7.6"
  }
 },
 "nbformat": 4,
 "nbformat_minor": 5
}
