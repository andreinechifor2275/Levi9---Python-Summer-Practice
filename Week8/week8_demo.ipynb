{
 "cells": [
  {
   "cell_type": "code",
   "id": "initial_id",
   "metadata": {
    "collapsed": true,
    "ExecuteTime": {
     "end_time": "2025-07-30T11:37:16.920879Z",
     "start_time": "2025-07-30T11:37:16.904232Z"
    }
   },
   "source": [
    "# End to End Example with Pandas & Matplotlib\n",
    "import pandas as pd\n",
    "import matplotlib.pyplot as plt"
   ],
   "outputs": [],
   "execution_count": 9
  },
  {
   "metadata": {
    "ExecuteTime": {
     "end_time": "2025-07-30T11:37:30.039265Z",
     "start_time": "2025-07-30T11:37:30.028367Z"
    }
   },
   "cell_type": "code",
   "source": [
    "# Create CSV\n",
    "data = {\n",
    "    'Name': ['Iuliana', 'Vali', 'Madalina', 'Cosmin', 'Andrei'],\n",
    "    'Department': ['IT', 'HR', 'IT', 'HR', 'Marketing'],\n",
    "    'Age': [25, 32, 28, 31, None],\n",
    "    'Salary': [4000, 3500, 4200, 3300, 3900]\n",
    "}\n",
    "\n",
    "df = pd.DataFrame(data)\n",
    "df.to_csv('employees.csv', index=False)\n",
    "\n",
    "print(\"CSV saved as employees.csv\")"
   ],
   "id": "48927429197af3f2",
   "outputs": [
    {
     "name": "stdout",
     "output_type": "stream",
     "text": [
      "CSV saved as employees.csv\n"
     ]
    }
   ],
   "execution_count": 10
  },
  {
   "metadata": {
    "ExecuteTime": {
     "end_time": "2025-07-30T11:37:55.833588Z",
     "start_time": "2025-07-30T11:37:55.798732Z"
    }
   },
   "cell_type": "code",
   "source": [
    "# Load CSV\n",
    "df = pd.read_csv('employees.csv')\n",
    "df"
   ],
   "id": "fee17683c8e6be2e",
   "outputs": [
    {
     "data": {
      "text/plain": [
       "       Name Department   Age  Salary\n",
       "0   Iuliana         IT  25.0    4000\n",
       "1      Vali         HR  32.0    3500\n",
       "2  Madalina         IT  28.0    4200\n",
       "3    Cosmin         HR  31.0    3300\n",
       "4    Andrei  Marketing   NaN    3900"
      ],
      "text/html": [
       "<div>\n",
       "<style scoped>\n",
       "    .dataframe tbody tr th:only-of-type {\n",
       "        vertical-align: middle;\n",
       "    }\n",
       "\n",
       "    .dataframe tbody tr th {\n",
       "        vertical-align: top;\n",
       "    }\n",
       "\n",
       "    .dataframe thead th {\n",
       "        text-align: right;\n",
       "    }\n",
       "</style>\n",
       "<table border=\"1\" class=\"dataframe\">\n",
       "  <thead>\n",
       "    <tr style=\"text-align: right;\">\n",
       "      <th></th>\n",
       "      <th>Name</th>\n",
       "      <th>Department</th>\n",
       "      <th>Age</th>\n",
       "      <th>Salary</th>\n",
       "    </tr>\n",
       "  </thead>\n",
       "  <tbody>\n",
       "    <tr>\n",
       "      <th>0</th>\n",
       "      <td>Iuliana</td>\n",
       "      <td>IT</td>\n",
       "      <td>25.0</td>\n",
       "      <td>4000</td>\n",
       "    </tr>\n",
       "    <tr>\n",
       "      <th>1</th>\n",
       "      <td>Vali</td>\n",
       "      <td>HR</td>\n",
       "      <td>32.0</td>\n",
       "      <td>3500</td>\n",
       "    </tr>\n",
       "    <tr>\n",
       "      <th>2</th>\n",
       "      <td>Madalina</td>\n",
       "      <td>IT</td>\n",
       "      <td>28.0</td>\n",
       "      <td>4200</td>\n",
       "    </tr>\n",
       "    <tr>\n",
       "      <th>3</th>\n",
       "      <td>Cosmin</td>\n",
       "      <td>HR</td>\n",
       "      <td>31.0</td>\n",
       "      <td>3300</td>\n",
       "    </tr>\n",
       "    <tr>\n",
       "      <th>4</th>\n",
       "      <td>Andrei</td>\n",
       "      <td>Marketing</td>\n",
       "      <td>NaN</td>\n",
       "      <td>3900</td>\n",
       "    </tr>\n",
       "  </tbody>\n",
       "</table>\n",
       "</div>"
      ]
     },
     "execution_count": 11,
     "metadata": {},
     "output_type": "execute_result"
    }
   ],
   "execution_count": 11
  },
  {
   "metadata": {
    "ExecuteTime": {
     "end_time": "2025-07-30T11:38:43.414905Z",
     "start_time": "2025-07-30T11:38:43.382919Z"
    }
   },
   "cell_type": "code",
   "source": [
    "# Explore\n",
    "print(\"First rows:\")\n",
    "print(df.head())\n",
    "print(\"\\\\nInfo:\")\n",
    "print(df.info())\n",
    "print(\"\\\\nDescribe:\")\n",
    "print(df.describe())"
   ],
   "id": "4a5196f7eaacc814",
   "outputs": [
    {
     "name": "stdout",
     "output_type": "stream",
     "text": [
      "First rows:\n",
      "       Name Department   Age  Salary\n",
      "0   Iuliana         IT  25.0    4000\n",
      "1      Vali         HR  32.0    3500\n",
      "2  Madalina         IT  28.0    4200\n",
      "3    Cosmin         HR  31.0    3300\n",
      "4    Andrei  Marketing   NaN    3900\n",
      "\\nInfo:\n",
      "<class 'pandas.core.frame.DataFrame'>\n",
      "RangeIndex: 5 entries, 0 to 4\n",
      "Data columns (total 4 columns):\n",
      " #   Column      Non-Null Count  Dtype  \n",
      "---  ------      --------------  -----  \n",
      " 0   Name        5 non-null      object \n",
      " 1   Department  5 non-null      object \n",
      " 2   Age         4 non-null      float64\n",
      " 3   Salary      5 non-null      int64  \n",
      "dtypes: float64(1), int64(1), object(2)\n",
      "memory usage: 292.0+ bytes\n",
      "None\n",
      "\\nDescribe:\n",
      "             Age      Salary\n",
      "count   4.000000     5.00000\n",
      "mean   29.000000  3780.00000\n",
      "std     3.162278   370.13511\n",
      "min    25.000000  3300.00000\n",
      "25%    27.250000  3500.00000\n",
      "50%    29.500000  3900.00000\n",
      "75%    31.250000  4000.00000\n",
      "max    32.000000  4200.00000\n"
     ]
    }
   ],
   "execution_count": 12
  },
  {
   "metadata": {
    "ExecuteTime": {
     "end_time": "2025-07-30T11:39:27.395722Z",
     "start_time": "2025-07-30T11:39:27.384677Z"
    }
   },
   "cell_type": "code",
   "source": [
    "# Clean data\n",
    "df['Age'] = df['Age'].fillna(df['Age'].mean())\n",
    "df"
   ],
   "id": "600de049b831ad0d",
   "outputs": [
    {
     "data": {
      "text/plain": [
       "       Name Department   Age  Salary\n",
       "0   Iuliana         IT  25.0    4000\n",
       "1      Vali         HR  32.0    3500\n",
       "2  Madalina         IT  28.0    4200\n",
       "3    Cosmin         HR  31.0    3300\n",
       "4    Andrei  Marketing  29.0    3900"
      ],
      "text/html": [
       "<div>\n",
       "<style scoped>\n",
       "    .dataframe tbody tr th:only-of-type {\n",
       "        vertical-align: middle;\n",
       "    }\n",
       "\n",
       "    .dataframe tbody tr th {\n",
       "        vertical-align: top;\n",
       "    }\n",
       "\n",
       "    .dataframe thead th {\n",
       "        text-align: right;\n",
       "    }\n",
       "</style>\n",
       "<table border=\"1\" class=\"dataframe\">\n",
       "  <thead>\n",
       "    <tr style=\"text-align: right;\">\n",
       "      <th></th>\n",
       "      <th>Name</th>\n",
       "      <th>Department</th>\n",
       "      <th>Age</th>\n",
       "      <th>Salary</th>\n",
       "    </tr>\n",
       "  </thead>\n",
       "  <tbody>\n",
       "    <tr>\n",
       "      <th>0</th>\n",
       "      <td>Iuliana</td>\n",
       "      <td>IT</td>\n",
       "      <td>25.0</td>\n",
       "      <td>4000</td>\n",
       "    </tr>\n",
       "    <tr>\n",
       "      <th>1</th>\n",
       "      <td>Vali</td>\n",
       "      <td>HR</td>\n",
       "      <td>32.0</td>\n",
       "      <td>3500</td>\n",
       "    </tr>\n",
       "    <tr>\n",
       "      <th>2</th>\n",
       "      <td>Madalina</td>\n",
       "      <td>IT</td>\n",
       "      <td>28.0</td>\n",
       "      <td>4200</td>\n",
       "    </tr>\n",
       "    <tr>\n",
       "      <th>3</th>\n",
       "      <td>Cosmin</td>\n",
       "      <td>HR</td>\n",
       "      <td>31.0</td>\n",
       "      <td>3300</td>\n",
       "    </tr>\n",
       "    <tr>\n",
       "      <th>4</th>\n",
       "      <td>Andrei</td>\n",
       "      <td>Marketing</td>\n",
       "      <td>29.0</td>\n",
       "      <td>3900</td>\n",
       "    </tr>\n",
       "  </tbody>\n",
       "</table>\n",
       "</div>"
      ]
     },
     "execution_count": 13,
     "metadata": {},
     "output_type": "execute_result"
    }
   ],
   "execution_count": 13
  },
  {
   "metadata": {
    "ExecuteTime": {
     "end_time": "2025-07-30T11:39:45.819730Z",
     "start_time": "2025-07-30T11:39:45.805357Z"
    }
   },
   "cell_type": "code",
   "source": [
    "# Group\n",
    "mean_salaries = df.groupby('Department')['Salary'].mean()\n",
    "mean_salaries"
   ],
   "id": "e36afb44f41af71a",
   "outputs": [
    {
     "data": {
      "text/plain": [
       "Department\n",
       "HR           3400.0\n",
       "IT           4100.0\n",
       "Marketing    3900.0\n",
       "Name: Salary, dtype: float64"
      ]
     },
     "execution_count": 14,
     "metadata": {},
     "output_type": "execute_result"
    }
   ],
   "execution_count": 14
  },
  {
   "metadata": {
    "ExecuteTime": {
     "end_time": "2025-07-30T11:40:09.149509Z",
     "start_time": "2025-07-30T11:40:09.036276Z"
    }
   },
   "cell_type": "code",
   "source": [
    "# Plot\n",
    "mean_salaries.plot(kind='bar', color='coral', title='Average Salary by Department')\n",
    "plt.xlabel('Department')\n",
    "plt.ylabel('Salary (RON)')\n",
    "plt.grid(axis='y')\n",
    "plt.tight_layout()\n",
    "plt.show()"
   ],
   "id": "d66df28efe8c619c",
   "outputs": [
    {
     "data": {
      "text/plain": [
       "<Figure size 640x480 with 1 Axes>"
      ],
      "image/png": "[encoded data removed]"
     },
     "metadata": {},
     "output_type": "display_data"
    }
   ],
   "execution_count": 15
  }
 ],
 "metadata": {
  "kernelspec": {
   "display_name": "Python 3",
   "language": "python",
   "name": "python3"
  },
  "language_info": {
   "codemirror_mode": {
    "name": "ipython",
    "version": 2
   },
   "file_extension": ".py",
   "mimetype": "text/x-python",
   "name": "python",
   "nbconvert_exporter": "python",
   "pygments_lexer": "ipython2",
   "version": "2.7.6"
  }
 },
 "nbformat": 4,
 "nbformat_minor": 5
}
